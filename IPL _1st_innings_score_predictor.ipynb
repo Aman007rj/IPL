{
 "cells": [
  {
   "cell_type": "code",
   "execution_count": 1,
   "id": "5a00220f",
   "metadata": {},
   "outputs": [],
   "source": [
    "import numpy as np\n",
    "import pandas as pd\n",
    "import matplotlib.pyplot as plt\n",
    "import seaborn as sns\n",
    "%matplotlib inline"
   ]
  },
  {
   "cell_type": "code",
   "execution_count": 2,
   "id": "f070073e",
   "metadata": {},
   "outputs": [],
   "source": [
    "delivery = pd.read_csv('IPL_Ball_by_Ball_2008_2022.csv')"
   ]
  },
  {
   "cell_type": "code",
   "execution_count": 3,
   "id": "671a6636",
   "metadata": {},
   "outputs": [
    {
     "data": {
      "text/html": [
       "<div>\n",
       "<style scoped>\n",
       "    .dataframe tbody tr th:only-of-type {\n",
       "        vertical-align: middle;\n",
       "    }\n",
       "\n",
       "    .dataframe tbody tr th {\n",
       "        vertical-align: top;\n",
       "    }\n",
       "\n",
       "    .dataframe thead th {\n",
       "        text-align: right;\n",
       "    }\n",
       "</style>\n",
       "<table border=\"1\" class=\"dataframe\">\n",
       "  <thead>\n",
       "    <tr style=\"text-align: right;\">\n",
       "      <th></th>\n",
       "      <th>ID</th>\n",
       "      <th>innings</th>\n",
       "      <th>overs</th>\n",
       "      <th>ballnumber</th>\n",
       "      <th>batter</th>\n",
       "      <th>bowler</th>\n",
       "      <th>non-striker</th>\n",
       "      <th>extra_type</th>\n",
       "      <th>batsman_run</th>\n",
       "      <th>extras_run</th>\n",
       "      <th>total_run</th>\n",
       "      <th>non_boundary</th>\n",
       "      <th>isWicketDelivery</th>\n",
       "      <th>player_out</th>\n",
       "      <th>kind</th>\n",
       "      <th>fielders_involved</th>\n",
       "      <th>BattingTeam</th>\n",
       "    </tr>\n",
       "  </thead>\n",
       "  <tbody>\n",
       "    <tr>\n",
       "      <th>0</th>\n",
       "      <td>1312200</td>\n",
       "      <td>1</td>\n",
       "      <td>0</td>\n",
       "      <td>1</td>\n",
       "      <td>YBK Jaiswal</td>\n",
       "      <td>Mohammed Shami</td>\n",
       "      <td>JC Buttler</td>\n",
       "      <td>NaN</td>\n",
       "      <td>0</td>\n",
       "      <td>0</td>\n",
       "      <td>0</td>\n",
       "      <td>0</td>\n",
       "      <td>0</td>\n",
       "      <td>NaN</td>\n",
       "      <td>NaN</td>\n",
       "      <td>NaN</td>\n",
       "      <td>Rajasthan Royals</td>\n",
       "    </tr>\n",
       "    <tr>\n",
       "      <th>1</th>\n",
       "      <td>1312200</td>\n",
       "      <td>1</td>\n",
       "      <td>0</td>\n",
       "      <td>2</td>\n",
       "      <td>YBK Jaiswal</td>\n",
       "      <td>Mohammed Shami</td>\n",
       "      <td>JC Buttler</td>\n",
       "      <td>legbyes</td>\n",
       "      <td>0</td>\n",
       "      <td>1</td>\n",
       "      <td>1</td>\n",
       "      <td>0</td>\n",
       "      <td>0</td>\n",
       "      <td>NaN</td>\n",
       "      <td>NaN</td>\n",
       "      <td>NaN</td>\n",
       "      <td>Rajasthan Royals</td>\n",
       "    </tr>\n",
       "  </tbody>\n",
       "</table>\n",
       "</div>"
      ],
      "text/plain": [
       "        ID  innings  overs  ballnumber       batter          bowler  \\\n",
       "0  1312200        1      0           1  YBK Jaiswal  Mohammed Shami   \n",
       "1  1312200        1      0           2  YBK Jaiswal  Mohammed Shami   \n",
       "\n",
       "  non-striker extra_type  batsman_run  extras_run  total_run  non_boundary  \\\n",
       "0  JC Buttler        NaN            0           0          0             0   \n",
       "1  JC Buttler    legbyes            0           1          1             0   \n",
       "\n",
       "   isWicketDelivery player_out kind fielders_involved       BattingTeam  \n",
       "0                 0        NaN  NaN               NaN  Rajasthan Royals  \n",
       "1                 0        NaN  NaN               NaN  Rajasthan Royals  "
      ]
     },
     "execution_count": 3,
     "metadata": {},
     "output_type": "execute_result"
    }
   ],
   "source": [
    "delivery.head(2)"
   ]
  },
  {
   "cell_type": "code",
   "execution_count": 4,
   "id": "7875c258",
   "metadata": {},
   "outputs": [
    {
     "name": "stdout",
     "output_type": "stream",
     "text": [
      "<class 'pandas.core.frame.DataFrame'>\n",
      "RangeIndex: 225954 entries, 0 to 225953\n",
      "Data columns (total 17 columns):\n",
      " #   Column             Non-Null Count   Dtype \n",
      "---  ------             --------------   ----- \n",
      " 0   ID                 225954 non-null  int64 \n",
      " 1   innings            225954 non-null  int64 \n",
      " 2   overs              225954 non-null  int64 \n",
      " 3   ballnumber         225954 non-null  int64 \n",
      " 4   batter             225954 non-null  object\n",
      " 5   bowler             225954 non-null  object\n",
      " 6   non-striker        225954 non-null  object\n",
      " 7   extra_type         12049 non-null   object\n",
      " 8   batsman_run        225954 non-null  int64 \n",
      " 9   extras_run         225954 non-null  int64 \n",
      " 10  total_run          225954 non-null  int64 \n",
      " 11  non_boundary       225954 non-null  int64 \n",
      " 12  isWicketDelivery   225954 non-null  int64 \n",
      " 13  player_out         11151 non-null   object\n",
      " 14  kind               11151 non-null   object\n",
      " 15  fielders_involved  7988 non-null    object\n",
      " 16  BattingTeam        225954 non-null  object\n",
      "dtypes: int64(9), object(8)\n",
      "memory usage: 29.3+ MB\n"
     ]
    }
   ],
   "source": [
    "delivery.info()"
   ]
  },
  {
   "cell_type": "code",
   "execution_count": 5,
   "id": "f1c0d2a5",
   "metadata": {},
   "outputs": [],
   "source": [
    "delivery_bkup = delivery.copy()"
   ]
  },
  {
   "cell_type": "code",
   "execution_count": 6,
   "id": "5aad1fa9",
   "metadata": {},
   "outputs": [],
   "source": [
    "delivery.drop(['batter', 'bowler',\n",
    "       'non-striker', 'extra_type', 'batsman_run', 'extras_run', \n",
    "       'non_boundary', 'player_out', 'kind',\n",
    "       'fielders_involved'], axis = 1 , inplace = True)"
   ]
  },
  {
   "cell_type": "code",
   "execution_count": 7,
   "id": "16523b80",
   "metadata": {},
   "outputs": [
    {
     "data": {
      "text/html": [
       "<div>\n",
       "<style scoped>\n",
       "    .dataframe tbody tr th:only-of-type {\n",
       "        vertical-align: middle;\n",
       "    }\n",
       "\n",
       "    .dataframe tbody tr th {\n",
       "        vertical-align: top;\n",
       "    }\n",
       "\n",
       "    .dataframe thead th {\n",
       "        text-align: right;\n",
       "    }\n",
       "</style>\n",
       "<table border=\"1\" class=\"dataframe\">\n",
       "  <thead>\n",
       "    <tr style=\"text-align: right;\">\n",
       "      <th></th>\n",
       "      <th>ID</th>\n",
       "      <th>innings</th>\n",
       "      <th>overs</th>\n",
       "      <th>ballnumber</th>\n",
       "      <th>total_run</th>\n",
       "      <th>isWicketDelivery</th>\n",
       "      <th>BattingTeam</th>\n",
       "    </tr>\n",
       "  </thead>\n",
       "  <tbody>\n",
       "    <tr>\n",
       "      <th>0</th>\n",
       "      <td>1312200</td>\n",
       "      <td>1</td>\n",
       "      <td>0</td>\n",
       "      <td>1</td>\n",
       "      <td>0</td>\n",
       "      <td>0</td>\n",
       "      <td>Rajasthan Royals</td>\n",
       "    </tr>\n",
       "    <tr>\n",
       "      <th>1</th>\n",
       "      <td>1312200</td>\n",
       "      <td>1</td>\n",
       "      <td>0</td>\n",
       "      <td>2</td>\n",
       "      <td>1</td>\n",
       "      <td>0</td>\n",
       "      <td>Rajasthan Royals</td>\n",
       "    </tr>\n",
       "  </tbody>\n",
       "</table>\n",
       "</div>"
      ],
      "text/plain": [
       "        ID  innings  overs  ballnumber  total_run  isWicketDelivery  \\\n",
       "0  1312200        1      0           1          0                 0   \n",
       "1  1312200        1      0           2          1                 0   \n",
       "\n",
       "        BattingTeam  \n",
       "0  Rajasthan Royals  \n",
       "1  Rajasthan Royals  "
      ]
     },
     "execution_count": 7,
     "metadata": {},
     "output_type": "execute_result"
    }
   ],
   "source": [
    "delivery.head(2)"
   ]
  },
  {
   "cell_type": "code",
   "execution_count": 8,
   "id": "cbb54bf8",
   "metadata": {},
   "outputs": [],
   "source": [
    "matches = pd.read_csv('IPL_Matches_2008_2022.csv')"
   ]
  },
  {
   "cell_type": "code",
   "execution_count": 9,
   "id": "b62ad9d3",
   "metadata": {},
   "outputs": [
    {
     "data": {
      "text/html": [
       "<div>\n",
       "<style scoped>\n",
       "    .dataframe tbody tr th:only-of-type {\n",
       "        vertical-align: middle;\n",
       "    }\n",
       "\n",
       "    .dataframe tbody tr th {\n",
       "        vertical-align: top;\n",
       "    }\n",
       "\n",
       "    .dataframe thead th {\n",
       "        text-align: right;\n",
       "    }\n",
       "</style>\n",
       "<table border=\"1\" class=\"dataframe\">\n",
       "  <thead>\n",
       "    <tr style=\"text-align: right;\">\n",
       "      <th></th>\n",
       "      <th>ID</th>\n",
       "      <th>City</th>\n",
       "      <th>Date</th>\n",
       "      <th>Season</th>\n",
       "      <th>MatchNumber</th>\n",
       "      <th>Team1</th>\n",
       "      <th>Team2</th>\n",
       "      <th>Venue</th>\n",
       "      <th>TossWinner</th>\n",
       "      <th>TossDecision</th>\n",
       "      <th>SuperOver</th>\n",
       "      <th>WinningTeam</th>\n",
       "      <th>WonBy</th>\n",
       "      <th>Margin</th>\n",
       "      <th>method</th>\n",
       "      <th>Player_of_Match</th>\n",
       "      <th>Team1Players</th>\n",
       "      <th>Team2Players</th>\n",
       "      <th>Umpire1</th>\n",
       "      <th>Umpire2</th>\n",
       "    </tr>\n",
       "  </thead>\n",
       "  <tbody>\n",
       "    <tr>\n",
       "      <th>0</th>\n",
       "      <td>1312200</td>\n",
       "      <td>Ahmedabad</td>\n",
       "      <td>2022-05-29</td>\n",
       "      <td>2022</td>\n",
       "      <td>Final</td>\n",
       "      <td>Rajasthan Royals</td>\n",
       "      <td>Gujarat Titans</td>\n",
       "      <td>Narendra Modi Stadium, Ahmedabad</td>\n",
       "      <td>Rajasthan Royals</td>\n",
       "      <td>bat</td>\n",
       "      <td>N</td>\n",
       "      <td>Gujarat Titans</td>\n",
       "      <td>Wickets</td>\n",
       "      <td>7.0</td>\n",
       "      <td>NaN</td>\n",
       "      <td>HH Pandya</td>\n",
       "      <td>['YBK Jaiswal', 'JC Buttler', 'SV Samson', 'D ...</td>\n",
       "      <td>['WP Saha', 'Shubman Gill', 'MS Wade', 'HH Pan...</td>\n",
       "      <td>CB Gaffaney</td>\n",
       "      <td>Nitin Menon</td>\n",
       "    </tr>\n",
       "    <tr>\n",
       "      <th>1</th>\n",
       "      <td>1312199</td>\n",
       "      <td>Ahmedabad</td>\n",
       "      <td>2022-05-27</td>\n",
       "      <td>2022</td>\n",
       "      <td>Qualifier 2</td>\n",
       "      <td>Royal Challengers Bangalore</td>\n",
       "      <td>Rajasthan Royals</td>\n",
       "      <td>Narendra Modi Stadium, Ahmedabad</td>\n",
       "      <td>Rajasthan Royals</td>\n",
       "      <td>field</td>\n",
       "      <td>N</td>\n",
       "      <td>Rajasthan Royals</td>\n",
       "      <td>Wickets</td>\n",
       "      <td>7.0</td>\n",
       "      <td>NaN</td>\n",
       "      <td>JC Buttler</td>\n",
       "      <td>['V Kohli', 'F du Plessis', 'RM Patidar', 'GJ ...</td>\n",
       "      <td>['YBK Jaiswal', 'JC Buttler', 'SV Samson', 'D ...</td>\n",
       "      <td>CB Gaffaney</td>\n",
       "      <td>Nitin Menon</td>\n",
       "    </tr>\n",
       "  </tbody>\n",
       "</table>\n",
       "</div>"
      ],
      "text/plain": [
       "        ID       City        Date Season  MatchNumber  \\\n",
       "0  1312200  Ahmedabad  2022-05-29   2022        Final   \n",
       "1  1312199  Ahmedabad  2022-05-27   2022  Qualifier 2   \n",
       "\n",
       "                         Team1             Team2  \\\n",
       "0             Rajasthan Royals    Gujarat Titans   \n",
       "1  Royal Challengers Bangalore  Rajasthan Royals   \n",
       "\n",
       "                              Venue        TossWinner TossDecision SuperOver  \\\n",
       "0  Narendra Modi Stadium, Ahmedabad  Rajasthan Royals          bat         N   \n",
       "1  Narendra Modi Stadium, Ahmedabad  Rajasthan Royals        field         N   \n",
       "\n",
       "        WinningTeam    WonBy  Margin method Player_of_Match  \\\n",
       "0    Gujarat Titans  Wickets     7.0    NaN       HH Pandya   \n",
       "1  Rajasthan Royals  Wickets     7.0    NaN      JC Buttler   \n",
       "\n",
       "                                        Team1Players  \\\n",
       "0  ['YBK Jaiswal', 'JC Buttler', 'SV Samson', 'D ...   \n",
       "1  ['V Kohli', 'F du Plessis', 'RM Patidar', 'GJ ...   \n",
       "\n",
       "                                        Team2Players      Umpire1      Umpire2  \n",
       "0  ['WP Saha', 'Shubman Gill', 'MS Wade', 'HH Pan...  CB Gaffaney  Nitin Menon  \n",
       "1  ['YBK Jaiswal', 'JC Buttler', 'SV Samson', 'D ...  CB Gaffaney  Nitin Menon  "
      ]
     },
     "execution_count": 9,
     "metadata": {},
     "output_type": "execute_result"
    }
   ],
   "source": [
    "matches.head(2)"
   ]
  },
  {
   "cell_type": "code",
   "execution_count": 10,
   "id": "e9510f9d",
   "metadata": {},
   "outputs": [
    {
     "name": "stdout",
     "output_type": "stream",
     "text": [
      "<class 'pandas.core.frame.DataFrame'>\n",
      "RangeIndex: 950 entries, 0 to 949\n",
      "Data columns (total 20 columns):\n",
      " #   Column           Non-Null Count  Dtype  \n",
      "---  ------           --------------  -----  \n",
      " 0   ID               950 non-null    int64  \n",
      " 1   City             899 non-null    object \n",
      " 2   Date             950 non-null    object \n",
      " 3   Season           950 non-null    object \n",
      " 4   MatchNumber      950 non-null    object \n",
      " 5   Team1            950 non-null    object \n",
      " 6   Team2            950 non-null    object \n",
      " 7   Venue            950 non-null    object \n",
      " 8   TossWinner       950 non-null    object \n",
      " 9   TossDecision     950 non-null    object \n",
      " 10  SuperOver        946 non-null    object \n",
      " 11  WinningTeam      946 non-null    object \n",
      " 12  WonBy            950 non-null    object \n",
      " 13  Margin           932 non-null    float64\n",
      " 14  method           19 non-null     object \n",
      " 15  Player_of_Match  946 non-null    object \n",
      " 16  Team1Players     950 non-null    object \n",
      " 17  Team2Players     950 non-null    object \n",
      " 18  Umpire1          950 non-null    object \n",
      " 19  Umpire2          950 non-null    object \n",
      "dtypes: float64(1), int64(1), object(18)\n",
      "memory usage: 148.6+ KB\n"
     ]
    }
   ],
   "source": [
    "matches.info()"
   ]
  },
  {
   "cell_type": "code",
   "execution_count": 11,
   "id": "2ccfcb65",
   "metadata": {},
   "outputs": [],
   "source": [
    "matches_bkup = matches.copy()"
   ]
  },
  {
   "cell_type": "code",
   "execution_count": 12,
   "id": "0eae9091",
   "metadata": {},
   "outputs": [],
   "source": [
    "matches.drop(['MatchNumber', \n",
    "        'TossWinner', 'TossDecision', 'SuperOver', 'WinningTeam',\n",
    "       'WonBy', 'Margin', 'method', 'Player_of_Match', 'Team1Players',\n",
    "       'Team2Players', 'Umpire1', 'Umpire2'], axis = 1, inplace = True)"
   ]
  },
  {
   "cell_type": "code",
   "execution_count": 13,
   "id": "55da4a4d",
   "metadata": {},
   "outputs": [
    {
     "data": {
      "text/html": [
       "<div>\n",
       "<style scoped>\n",
       "    .dataframe tbody tr th:only-of-type {\n",
       "        vertical-align: middle;\n",
       "    }\n",
       "\n",
       "    .dataframe tbody tr th {\n",
       "        vertical-align: top;\n",
       "    }\n",
       "\n",
       "    .dataframe thead th {\n",
       "        text-align: right;\n",
       "    }\n",
       "</style>\n",
       "<table border=\"1\" class=\"dataframe\">\n",
       "  <thead>\n",
       "    <tr style=\"text-align: right;\">\n",
       "      <th></th>\n",
       "      <th>ID</th>\n",
       "      <th>City</th>\n",
       "      <th>Date</th>\n",
       "      <th>Season</th>\n",
       "      <th>Team1</th>\n",
       "      <th>Team2</th>\n",
       "      <th>Venue</th>\n",
       "    </tr>\n",
       "  </thead>\n",
       "  <tbody>\n",
       "    <tr>\n",
       "      <th>0</th>\n",
       "      <td>1312200</td>\n",
       "      <td>Ahmedabad</td>\n",
       "      <td>2022-05-29</td>\n",
       "      <td>2022</td>\n",
       "      <td>Rajasthan Royals</td>\n",
       "      <td>Gujarat Titans</td>\n",
       "      <td>Narendra Modi Stadium, Ahmedabad</td>\n",
       "    </tr>\n",
       "    <tr>\n",
       "      <th>1</th>\n",
       "      <td>1312199</td>\n",
       "      <td>Ahmedabad</td>\n",
       "      <td>2022-05-27</td>\n",
       "      <td>2022</td>\n",
       "      <td>Royal Challengers Bangalore</td>\n",
       "      <td>Rajasthan Royals</td>\n",
       "      <td>Narendra Modi Stadium, Ahmedabad</td>\n",
       "    </tr>\n",
       "    <tr>\n",
       "      <th>2</th>\n",
       "      <td>1312198</td>\n",
       "      <td>Kolkata</td>\n",
       "      <td>2022-05-25</td>\n",
       "      <td>2022</td>\n",
       "      <td>Royal Challengers Bangalore</td>\n",
       "      <td>Lucknow Super Giants</td>\n",
       "      <td>Eden Gardens, Kolkata</td>\n",
       "    </tr>\n",
       "    <tr>\n",
       "      <th>3</th>\n",
       "      <td>1312197</td>\n",
       "      <td>Kolkata</td>\n",
       "      <td>2022-05-24</td>\n",
       "      <td>2022</td>\n",
       "      <td>Rajasthan Royals</td>\n",
       "      <td>Gujarat Titans</td>\n",
       "      <td>Eden Gardens, Kolkata</td>\n",
       "    </tr>\n",
       "    <tr>\n",
       "      <th>4</th>\n",
       "      <td>1304116</td>\n",
       "      <td>Mumbai</td>\n",
       "      <td>2022-05-22</td>\n",
       "      <td>2022</td>\n",
       "      <td>Sunrisers Hyderabad</td>\n",
       "      <td>Punjab Kings</td>\n",
       "      <td>Wankhede Stadium, Mumbai</td>\n",
       "    </tr>\n",
       "  </tbody>\n",
       "</table>\n",
       "</div>"
      ],
      "text/plain": [
       "        ID       City        Date Season                        Team1  \\\n",
       "0  1312200  Ahmedabad  2022-05-29   2022             Rajasthan Royals   \n",
       "1  1312199  Ahmedabad  2022-05-27   2022  Royal Challengers Bangalore   \n",
       "2  1312198    Kolkata  2022-05-25   2022  Royal Challengers Bangalore   \n",
       "3  1312197    Kolkata  2022-05-24   2022             Rajasthan Royals   \n",
       "4  1304116     Mumbai  2022-05-22   2022          Sunrisers Hyderabad   \n",
       "\n",
       "                  Team2                             Venue  \n",
       "0        Gujarat Titans  Narendra Modi Stadium, Ahmedabad  \n",
       "1      Rajasthan Royals  Narendra Modi Stadium, Ahmedabad  \n",
       "2  Lucknow Super Giants             Eden Gardens, Kolkata  \n",
       "3        Gujarat Titans             Eden Gardens, Kolkata  \n",
       "4          Punjab Kings          Wankhede Stadium, Mumbai  "
      ]
     },
     "execution_count": 13,
     "metadata": {},
     "output_type": "execute_result"
    }
   ],
   "source": [
    "matches.head()"
   ]
  },
  {
   "cell_type": "code",
   "execution_count": 14,
   "id": "030357a8",
   "metadata": {},
   "outputs": [],
   "source": [
    "df = delivery.merge(matches, on = 'ID')"
   ]
  },
  {
   "cell_type": "code",
   "execution_count": 15,
   "id": "b252c452",
   "metadata": {},
   "outputs": [
    {
     "data": {
      "text/html": [
       "<div>\n",
       "<style scoped>\n",
       "    .dataframe tbody tr th:only-of-type {\n",
       "        vertical-align: middle;\n",
       "    }\n",
       "\n",
       "    .dataframe tbody tr th {\n",
       "        vertical-align: top;\n",
       "    }\n",
       "\n",
       "    .dataframe thead th {\n",
       "        text-align: right;\n",
       "    }\n",
       "</style>\n",
       "<table border=\"1\" class=\"dataframe\">\n",
       "  <thead>\n",
       "    <tr style=\"text-align: right;\">\n",
       "      <th></th>\n",
       "      <th>ID</th>\n",
       "      <th>innings</th>\n",
       "      <th>overs</th>\n",
       "      <th>ballnumber</th>\n",
       "      <th>total_run</th>\n",
       "      <th>isWicketDelivery</th>\n",
       "      <th>BattingTeam</th>\n",
       "      <th>City</th>\n",
       "      <th>Date</th>\n",
       "      <th>Season</th>\n",
       "      <th>Team1</th>\n",
       "      <th>Team2</th>\n",
       "      <th>Venue</th>\n",
       "    </tr>\n",
       "  </thead>\n",
       "  <tbody>\n",
       "    <tr>\n",
       "      <th>0</th>\n",
       "      <td>1312200</td>\n",
       "      <td>1</td>\n",
       "      <td>0</td>\n",
       "      <td>1</td>\n",
       "      <td>0</td>\n",
       "      <td>0</td>\n",
       "      <td>Rajasthan Royals</td>\n",
       "      <td>Ahmedabad</td>\n",
       "      <td>2022-05-29</td>\n",
       "      <td>2022</td>\n",
       "      <td>Rajasthan Royals</td>\n",
       "      <td>Gujarat Titans</td>\n",
       "      <td>Narendra Modi Stadium, Ahmedabad</td>\n",
       "    </tr>\n",
       "    <tr>\n",
       "      <th>1</th>\n",
       "      <td>1312200</td>\n",
       "      <td>1</td>\n",
       "      <td>0</td>\n",
       "      <td>2</td>\n",
       "      <td>1</td>\n",
       "      <td>0</td>\n",
       "      <td>Rajasthan Royals</td>\n",
       "      <td>Ahmedabad</td>\n",
       "      <td>2022-05-29</td>\n",
       "      <td>2022</td>\n",
       "      <td>Rajasthan Royals</td>\n",
       "      <td>Gujarat Titans</td>\n",
       "      <td>Narendra Modi Stadium, Ahmedabad</td>\n",
       "    </tr>\n",
       "  </tbody>\n",
       "</table>\n",
       "</div>"
      ],
      "text/plain": [
       "        ID  innings  overs  ballnumber  total_run  isWicketDelivery  \\\n",
       "0  1312200        1      0           1          0                 0   \n",
       "1  1312200        1      0           2          1                 0   \n",
       "\n",
       "        BattingTeam       City        Date Season             Team1  \\\n",
       "0  Rajasthan Royals  Ahmedabad  2022-05-29   2022  Rajasthan Royals   \n",
       "1  Rajasthan Royals  Ahmedabad  2022-05-29   2022  Rajasthan Royals   \n",
       "\n",
       "            Team2                             Venue  \n",
       "0  Gujarat Titans  Narendra Modi Stadium, Ahmedabad  \n",
       "1  Gujarat Titans  Narendra Modi Stadium, Ahmedabad  "
      ]
     },
     "execution_count": 15,
     "metadata": {},
     "output_type": "execute_result"
    }
   ],
   "source": [
    "df.head(2)"
   ]
  },
  {
   "cell_type": "code",
   "execution_count": 16,
   "id": "565fc9fb",
   "metadata": {},
   "outputs": [
    {
     "name": "stdout",
     "output_type": "stream",
     "text": [
      "<class 'pandas.core.frame.DataFrame'>\n",
      "Int64Index: 225954 entries, 0 to 225953\n",
      "Data columns (total 13 columns):\n",
      " #   Column            Non-Null Count   Dtype \n",
      "---  ------            --------------   ----- \n",
      " 0   ID                225954 non-null  int64 \n",
      " 1   innings           225954 non-null  int64 \n",
      " 2   overs             225954 non-null  int64 \n",
      " 3   ballnumber        225954 non-null  int64 \n",
      " 4   total_run         225954 non-null  int64 \n",
      " 5   isWicketDelivery  225954 non-null  int64 \n",
      " 6   BattingTeam       225954 non-null  object\n",
      " 7   City              213557 non-null  object\n",
      " 8   Date              225954 non-null  object\n",
      " 9   Season            225954 non-null  object\n",
      " 10  Team1             225954 non-null  object\n",
      " 11  Team2             225954 non-null  object\n",
      " 12  Venue             225954 non-null  object\n",
      "dtypes: int64(6), object(7)\n",
      "memory usage: 24.1+ MB\n"
     ]
    }
   ],
   "source": [
    "df.info()"
   ]
  },
  {
   "cell_type": "code",
   "execution_count": 17,
   "id": "a68f046f",
   "metadata": {},
   "outputs": [
    {
     "data": {
      "text/plain": [
       "ID                      0\n",
       "innings                 0\n",
       "overs                   0\n",
       "ballnumber              0\n",
       "total_run               0\n",
       "isWicketDelivery        0\n",
       "BattingTeam             0\n",
       "City                12397\n",
       "Date                    0\n",
       "Season                  0\n",
       "Team1                   0\n",
       "Team2                   0\n",
       "Venue                   0\n",
       "dtype: int64"
      ]
     },
     "execution_count": 17,
     "metadata": {},
     "output_type": "execute_result"
    }
   ],
   "source": [
    "df.isnull().sum()"
   ]
  },
  {
   "cell_type": "code",
   "execution_count": 18,
   "id": "f51467c4",
   "metadata": {},
   "outputs": [
    {
     "data": {
      "text/plain": [
       "0"
      ]
     },
     "execution_count": 18,
     "metadata": {},
     "output_type": "execute_result"
    }
   ],
   "source": [
    "df.duplicated().sum()"
   ]
  },
  {
   "cell_type": "code",
   "execution_count": 19,
   "id": "23e65b37",
   "metadata": {},
   "outputs": [],
   "source": [
    "df['BowlingTeam'] = df['BattingTeam']\n",
    "df.loc[df['BattingTeam'] == df['Team1'], 'BowlingTeam'] = df['Team2']\n",
    "df.loc[df['BattingTeam'] == df['Team2'], 'BowlingTeam'] = df['Team1']"
   ]
  },
  {
   "cell_type": "code",
   "execution_count": 20,
   "id": "7c5fea90",
   "metadata": {},
   "outputs": [
    {
     "data": {
      "text/html": [
       "<div>\n",
       "<style scoped>\n",
       "    .dataframe tbody tr th:only-of-type {\n",
       "        vertical-align: middle;\n",
       "    }\n",
       "\n",
       "    .dataframe tbody tr th {\n",
       "        vertical-align: top;\n",
       "    }\n",
       "\n",
       "    .dataframe thead th {\n",
       "        text-align: right;\n",
       "    }\n",
       "</style>\n",
       "<table border=\"1\" class=\"dataframe\">\n",
       "  <thead>\n",
       "    <tr style=\"text-align: right;\">\n",
       "      <th></th>\n",
       "      <th>ID</th>\n",
       "      <th>innings</th>\n",
       "      <th>overs</th>\n",
       "      <th>ballnumber</th>\n",
       "      <th>total_run</th>\n",
       "      <th>isWicketDelivery</th>\n",
       "      <th>BattingTeam</th>\n",
       "      <th>City</th>\n",
       "      <th>Date</th>\n",
       "      <th>Season</th>\n",
       "      <th>Team1</th>\n",
       "      <th>Team2</th>\n",
       "      <th>Venue</th>\n",
       "      <th>BowlingTeam</th>\n",
       "    </tr>\n",
       "  </thead>\n",
       "  <tbody>\n",
       "    <tr>\n",
       "      <th>0</th>\n",
       "      <td>1312200</td>\n",
       "      <td>1</td>\n",
       "      <td>0</td>\n",
       "      <td>1</td>\n",
       "      <td>0</td>\n",
       "      <td>0</td>\n",
       "      <td>Rajasthan Royals</td>\n",
       "      <td>Ahmedabad</td>\n",
       "      <td>2022-05-29</td>\n",
       "      <td>2022</td>\n",
       "      <td>Rajasthan Royals</td>\n",
       "      <td>Gujarat Titans</td>\n",
       "      <td>Narendra Modi Stadium, Ahmedabad</td>\n",
       "      <td>Gujarat Titans</td>\n",
       "    </tr>\n",
       "    <tr>\n",
       "      <th>1</th>\n",
       "      <td>1312200</td>\n",
       "      <td>1</td>\n",
       "      <td>0</td>\n",
       "      <td>2</td>\n",
       "      <td>1</td>\n",
       "      <td>0</td>\n",
       "      <td>Rajasthan Royals</td>\n",
       "      <td>Ahmedabad</td>\n",
       "      <td>2022-05-29</td>\n",
       "      <td>2022</td>\n",
       "      <td>Rajasthan Royals</td>\n",
       "      <td>Gujarat Titans</td>\n",
       "      <td>Narendra Modi Stadium, Ahmedabad</td>\n",
       "      <td>Gujarat Titans</td>\n",
       "    </tr>\n",
       "    <tr>\n",
       "      <th>2</th>\n",
       "      <td>1312200</td>\n",
       "      <td>1</td>\n",
       "      <td>0</td>\n",
       "      <td>3</td>\n",
       "      <td>1</td>\n",
       "      <td>0</td>\n",
       "      <td>Rajasthan Royals</td>\n",
       "      <td>Ahmedabad</td>\n",
       "      <td>2022-05-29</td>\n",
       "      <td>2022</td>\n",
       "      <td>Rajasthan Royals</td>\n",
       "      <td>Gujarat Titans</td>\n",
       "      <td>Narendra Modi Stadium, Ahmedabad</td>\n",
       "      <td>Gujarat Titans</td>\n",
       "    </tr>\n",
       "    <tr>\n",
       "      <th>3</th>\n",
       "      <td>1312200</td>\n",
       "      <td>1</td>\n",
       "      <td>0</td>\n",
       "      <td>4</td>\n",
       "      <td>0</td>\n",
       "      <td>0</td>\n",
       "      <td>Rajasthan Royals</td>\n",
       "      <td>Ahmedabad</td>\n",
       "      <td>2022-05-29</td>\n",
       "      <td>2022</td>\n",
       "      <td>Rajasthan Royals</td>\n",
       "      <td>Gujarat Titans</td>\n",
       "      <td>Narendra Modi Stadium, Ahmedabad</td>\n",
       "      <td>Gujarat Titans</td>\n",
       "    </tr>\n",
       "    <tr>\n",
       "      <th>4</th>\n",
       "      <td>1312200</td>\n",
       "      <td>1</td>\n",
       "      <td>0</td>\n",
       "      <td>5</td>\n",
       "      <td>0</td>\n",
       "      <td>0</td>\n",
       "      <td>Rajasthan Royals</td>\n",
       "      <td>Ahmedabad</td>\n",
       "      <td>2022-05-29</td>\n",
       "      <td>2022</td>\n",
       "      <td>Rajasthan Royals</td>\n",
       "      <td>Gujarat Titans</td>\n",
       "      <td>Narendra Modi Stadium, Ahmedabad</td>\n",
       "      <td>Gujarat Titans</td>\n",
       "    </tr>\n",
       "  </tbody>\n",
       "</table>\n",
       "</div>"
      ],
      "text/plain": [
       "        ID  innings  overs  ballnumber  total_run  isWicketDelivery  \\\n",
       "0  1312200        1      0           1          0                 0   \n",
       "1  1312200        1      0           2          1                 0   \n",
       "2  1312200        1      0           3          1                 0   \n",
       "3  1312200        1      0           4          0                 0   \n",
       "4  1312200        1      0           5          0                 0   \n",
       "\n",
       "        BattingTeam       City        Date Season             Team1  \\\n",
       "0  Rajasthan Royals  Ahmedabad  2022-05-29   2022  Rajasthan Royals   \n",
       "1  Rajasthan Royals  Ahmedabad  2022-05-29   2022  Rajasthan Royals   \n",
       "2  Rajasthan Royals  Ahmedabad  2022-05-29   2022  Rajasthan Royals   \n",
       "3  Rajasthan Royals  Ahmedabad  2022-05-29   2022  Rajasthan Royals   \n",
       "4  Rajasthan Royals  Ahmedabad  2022-05-29   2022  Rajasthan Royals   \n",
       "\n",
       "            Team2                             Venue     BowlingTeam  \n",
       "0  Gujarat Titans  Narendra Modi Stadium, Ahmedabad  Gujarat Titans  \n",
       "1  Gujarat Titans  Narendra Modi Stadium, Ahmedabad  Gujarat Titans  \n",
       "2  Gujarat Titans  Narendra Modi Stadium, Ahmedabad  Gujarat Titans  \n",
       "3  Gujarat Titans  Narendra Modi Stadium, Ahmedabad  Gujarat Titans  \n",
       "4  Gujarat Titans  Narendra Modi Stadium, Ahmedabad  Gujarat Titans  "
      ]
     },
     "execution_count": 20,
     "metadata": {},
     "output_type": "execute_result"
    }
   ],
   "source": [
    "df.head()"
   ]
  },
  {
   "cell_type": "code",
   "execution_count": 21,
   "id": "7ec44f26",
   "metadata": {},
   "outputs": [],
   "source": [
    "df.drop(['Team1','Team2'], axis = 1, inplace = True)"
   ]
  },
  {
   "cell_type": "code",
   "execution_count": 22,
   "id": "55291792",
   "metadata": {},
   "outputs": [
    {
     "data": {
      "text/html": [
       "<div>\n",
       "<style scoped>\n",
       "    .dataframe tbody tr th:only-of-type {\n",
       "        vertical-align: middle;\n",
       "    }\n",
       "\n",
       "    .dataframe tbody tr th {\n",
       "        vertical-align: top;\n",
       "    }\n",
       "\n",
       "    .dataframe thead th {\n",
       "        text-align: right;\n",
       "    }\n",
       "</style>\n",
       "<table border=\"1\" class=\"dataframe\">\n",
       "  <thead>\n",
       "    <tr style=\"text-align: right;\">\n",
       "      <th></th>\n",
       "      <th>ID</th>\n",
       "      <th>innings</th>\n",
       "      <th>overs</th>\n",
       "      <th>ballnumber</th>\n",
       "      <th>total_run</th>\n",
       "      <th>isWicketDelivery</th>\n",
       "      <th>BattingTeam</th>\n",
       "      <th>City</th>\n",
       "      <th>Date</th>\n",
       "      <th>Season</th>\n",
       "      <th>Venue</th>\n",
       "      <th>BowlingTeam</th>\n",
       "    </tr>\n",
       "  </thead>\n",
       "  <tbody>\n",
       "    <tr>\n",
       "      <th>0</th>\n",
       "      <td>1312200</td>\n",
       "      <td>1</td>\n",
       "      <td>0</td>\n",
       "      <td>1</td>\n",
       "      <td>0</td>\n",
       "      <td>0</td>\n",
       "      <td>Rajasthan Royals</td>\n",
       "      <td>Ahmedabad</td>\n",
       "      <td>2022-05-29</td>\n",
       "      <td>2022</td>\n",
       "      <td>Narendra Modi Stadium, Ahmedabad</td>\n",
       "      <td>Gujarat Titans</td>\n",
       "    </tr>\n",
       "    <tr>\n",
       "      <th>1</th>\n",
       "      <td>1312200</td>\n",
       "      <td>1</td>\n",
       "      <td>0</td>\n",
       "      <td>2</td>\n",
       "      <td>1</td>\n",
       "      <td>0</td>\n",
       "      <td>Rajasthan Royals</td>\n",
       "      <td>Ahmedabad</td>\n",
       "      <td>2022-05-29</td>\n",
       "      <td>2022</td>\n",
       "      <td>Narendra Modi Stadium, Ahmedabad</td>\n",
       "      <td>Gujarat Titans</td>\n",
       "    </tr>\n",
       "  </tbody>\n",
       "</table>\n",
       "</div>"
      ],
      "text/plain": [
       "        ID  innings  overs  ballnumber  total_run  isWicketDelivery  \\\n",
       "0  1312200        1      0           1          0                 0   \n",
       "1  1312200        1      0           2          1                 0   \n",
       "\n",
       "        BattingTeam       City        Date Season  \\\n",
       "0  Rajasthan Royals  Ahmedabad  2022-05-29   2022   \n",
       "1  Rajasthan Royals  Ahmedabad  2022-05-29   2022   \n",
       "\n",
       "                              Venue     BowlingTeam  \n",
       "0  Narendra Modi Stadium, Ahmedabad  Gujarat Titans  \n",
       "1  Narendra Modi Stadium, Ahmedabad  Gujarat Titans  "
      ]
     },
     "execution_count": 22,
     "metadata": {},
     "output_type": "execute_result"
    }
   ],
   "source": [
    "df.head(2)"
   ]
  },
  {
   "cell_type": "code",
   "execution_count": 23,
   "id": "1e8cedbf",
   "metadata": {},
   "outputs": [
    {
     "data": {
      "text/plain": [
       "array(['Rajasthan Royals', 'Gujarat Titans',\n",
       "       'Royal Challengers Bangalore', 'Lucknow Super Giants',\n",
       "       'Sunrisers Hyderabad', 'Punjab Kings', 'Delhi Capitals',\n",
       "       'Mumbai Indians', 'Chennai Super Kings', 'Kolkata Knight Riders',\n",
       "       'Kings XI Punjab', 'Delhi Daredevils', 'Rising Pune Supergiant',\n",
       "       'Gujarat Lions', 'Rising Pune Supergiants', 'Pune Warriors',\n",
       "       'Deccan Chargers', 'Kochi Tuskers Kerala'], dtype=object)"
      ]
     },
     "execution_count": 23,
     "metadata": {},
     "output_type": "execute_result"
    }
   ],
   "source": [
    "df['BattingTeam'].unique()"
   ]
  },
  {
   "cell_type": "code",
   "execution_count": 24,
   "id": "6bc5382e",
   "metadata": {},
   "outputs": [],
   "source": [
    "df['BattingTeam'] = df['BattingTeam'].replace(to_replace='Kings XI Punjab', value='Punjab Kings')\n",
    "df['BattingTeam'] = df['BattingTeam'].replace(to_replace='Delhi Daredevils', value='Delhi Capitals')\n",
    "df['BowlingTeam'] = df['BowlingTeam'].replace(to_replace='Kings XI Punjab', value='Punjab Kings')\n",
    "df['BowlingTeam'] = df['BowlingTeam'].replace(to_replace='Delhi Daredevils', value='Delhi Capitals')"
   ]
  },
  {
   "cell_type": "code",
   "execution_count": 25,
   "id": "ba472674",
   "metadata": {},
   "outputs": [
    {
     "data": {
      "text/plain": [
       "array(['Rajasthan Royals', 'Gujarat Titans',\n",
       "       'Royal Challengers Bangalore', 'Lucknow Super Giants',\n",
       "       'Sunrisers Hyderabad', 'Punjab Kings', 'Delhi Capitals',\n",
       "       'Mumbai Indians', 'Chennai Super Kings', 'Kolkata Knight Riders',\n",
       "       'Rising Pune Supergiant', 'Gujarat Lions',\n",
       "       'Rising Pune Supergiants', 'Pune Warriors', 'Deccan Chargers',\n",
       "       'Kochi Tuskers Kerala'], dtype=object)"
      ]
     },
     "execution_count": 25,
     "metadata": {},
     "output_type": "execute_result"
    }
   ],
   "source": [
    "df['BattingTeam'].unique()"
   ]
  },
  {
   "cell_type": "code",
   "execution_count": 26,
   "id": "b2e993a7",
   "metadata": {},
   "outputs": [],
   "source": [
    "old_teams = ['Rising Pune Supergiant', 'Gujarat Lions',\n",
    "       'Rising Pune Supergiants', 'Pune Warriors', 'Deccan Chargers',\n",
    "       'Kochi Tuskers Kerala']"
   ]
  },
  {
   "cell_type": "code",
   "execution_count": 27,
   "id": "e702015a",
   "metadata": {},
   "outputs": [],
   "source": [
    "df = df[~(df['BattingTeam'].isin(old_teams) | df['BowlingTeam'].isin(old_teams))]"
   ]
  },
  {
   "cell_type": "code",
   "execution_count": 28,
   "id": "01d5a1a5",
   "metadata": {},
   "outputs": [
    {
     "data": {
      "text/plain": [
       "1    94160\n",
       "2    87753\n",
       "3       72\n",
       "4       64\n",
       "5        8\n",
       "6        4\n",
       "Name: innings, dtype: int64"
      ]
     },
     "execution_count": 28,
     "metadata": {},
     "output_type": "execute_result"
    }
   ],
   "source": [
    "df['innings'].value_counts()"
   ]
  },
  {
   "cell_type": "code",
   "execution_count": 29,
   "id": "849cf93c",
   "metadata": {},
   "outputs": [],
   "source": [
    "df = df[df['innings'] == 1]"
   ]
  },
  {
   "cell_type": "code",
   "execution_count": 30,
   "id": "f5059cf7",
   "metadata": {},
   "outputs": [
    {
     "data": {
      "text/plain": [
       "0     4807\n",
       "1     4807\n",
       "2     4767\n",
       "4     4752\n",
       "3     4746\n",
       "5     4739\n",
       "6     4729\n",
       "7     4711\n",
       "9     4702\n",
       "8     4697\n",
       "16    4695\n",
       "17    4693\n",
       "12    4688\n",
       "14    4683\n",
       "11    4676\n",
       "15    4674\n",
       "18    4668\n",
       "10    4667\n",
       "13    4665\n",
       "19    4594\n",
       "Name: overs, dtype: int64"
      ]
     },
     "execution_count": 30,
     "metadata": {},
     "output_type": "execute_result"
    }
   ],
   "source": [
    "df['overs'].value_counts()"
   ]
  },
  {
   "cell_type": "code",
   "execution_count": 31,
   "id": "7dee1634",
   "metadata": {},
   "outputs": [
    {
     "data": {
      "text/plain": [
       "Mumbai            16775\n",
       "Kolkata            8543\n",
       "Delhi              8115\n",
       "Chennai            7313\n",
       "Bangalore          6371\n",
       "Chandigarh         5840\n",
       "Jaipur             5091\n",
       "Hyderabad          4916\n",
       "Abu Dhabi          4565\n",
       "Pune               2995\n",
       "Ahmedabad          2217\n",
       "Bengaluru          1761\n",
       "Dubai              1623\n",
       "Durban             1480\n",
       "Sharjah            1245\n",
       "Navi Mumbai        1133\n",
       "Centurion           993\n",
       "Visakhapatnam       990\n",
       "Dharamsala          867\n",
       "Port Elizabeth      746\n",
       "Ranchi              716\n",
       "Indore              715\n",
       "Johannesburg        619\n",
       "Raipur              614\n",
       "Cape Town           573\n",
       "Cuttack             372\n",
       "East London         256\n",
       "Bloemfontein        251\n",
       "Kimberley           122\n",
       "Name: City, dtype: int64"
      ]
     },
     "execution_count": 31,
     "metadata": {},
     "output_type": "execute_result"
    }
   ],
   "source": [
    "df['City'].value_counts()"
   ]
  },
  {
   "cell_type": "code",
   "execution_count": 32,
   "id": "1f9fa779",
   "metadata": {},
   "outputs": [
    {
     "data": {
      "text/plain": [
       "array(['Narendra Modi Stadium, Ahmedabad', 'Eden Gardens, Kolkata',\n",
       "       'Wankhede Stadium, Mumbai', 'Brabourne Stadium, Mumbai',\n",
       "       'Dr DY Patil Sports Academy, Mumbai',\n",
       "       'Maharashtra Cricket Association Stadium, Pune',\n",
       "       'Dubai International Cricket Stadium', 'Sharjah Cricket Stadium',\n",
       "       'Zayed Cricket Stadium, Abu Dhabi', 'Arun Jaitley Stadium, Delhi',\n",
       "       'MA Chidambaram Stadium, Chepauk, Chennai', 'Sheikh Zayed Stadium',\n",
       "       'Rajiv Gandhi International Stadium',\n",
       "       'Dr. Y.S. Rajasekhara Reddy ACA-VDCA Cricket Stadium',\n",
       "       'MA Chidambaram Stadium', 'Wankhede Stadium',\n",
       "       'Punjab Cricket Association IS Bindra Stadium',\n",
       "       'M.Chinnaswamy Stadium', 'Arun Jaitley Stadium', 'Eden Gardens',\n",
       "       'Sawai Mansingh Stadium',\n",
       "       'Maharashtra Cricket Association Stadium',\n",
       "       'Holkar Cricket Stadium', 'M Chinnaswamy Stadium',\n",
       "       'Feroz Shah Kotla',\n",
       "       'Punjab Cricket Association IS Bindra Stadium, Mohali',\n",
       "       'Rajiv Gandhi International Stadium, Uppal',\n",
       "       'Shaheed Veer Narayan Singh International Stadium',\n",
       "       'JSCA International Stadium Complex', 'Brabourne Stadium',\n",
       "       'Punjab Cricket Association Stadium, Mohali',\n",
       "       'MA Chidambaram Stadium, Chepauk', 'Sardar Patel Stadium, Motera',\n",
       "       'Barabati Stadium', 'Himachal Pradesh Cricket Association Stadium',\n",
       "       'Subrata Roy Sahara Stadium', 'Dr DY Patil Sports Academy',\n",
       "       'New Wanderers Stadium', 'SuperSport Park', 'Kingsmead',\n",
       "       'OUTsurance Oval', \"St George's Park\", 'De Beers Diamond Oval',\n",
       "       'Buffalo Park', 'Newlands'], dtype=object)"
      ]
     },
     "execution_count": 32,
     "metadata": {},
     "output_type": "execute_result"
    }
   ],
   "source": [
    "df['Venue'].unique()"
   ]
  },
  {
   "cell_type": "code",
   "execution_count": 33,
   "id": "aab88980",
   "metadata": {},
   "outputs": [],
   "source": [
    "city_venue = df.groupby(['City','Venue']).size().reset_index().drop(columns = [0])"
   ]
  },
  {
   "cell_type": "code",
   "execution_count": 34,
   "id": "8d145fc1",
   "metadata": {},
   "outputs": [
    {
     "data": {
      "text/html": [
       "<div>\n",
       "<style scoped>\n",
       "    .dataframe tbody tr th:only-of-type {\n",
       "        vertical-align: middle;\n",
       "    }\n",
       "\n",
       "    .dataframe tbody tr th {\n",
       "        vertical-align: top;\n",
       "    }\n",
       "\n",
       "    .dataframe thead th {\n",
       "        text-align: right;\n",
       "    }\n",
       "</style>\n",
       "<table border=\"1\" class=\"dataframe\">\n",
       "  <thead>\n",
       "    <tr style=\"text-align: right;\">\n",
       "      <th></th>\n",
       "      <th>City</th>\n",
       "      <th>Venue</th>\n",
       "    </tr>\n",
       "  </thead>\n",
       "  <tbody>\n",
       "    <tr>\n",
       "      <th>0</th>\n",
       "      <td>Abu Dhabi</td>\n",
       "      <td>Sheikh Zayed Stadium</td>\n",
       "    </tr>\n",
       "    <tr>\n",
       "      <th>1</th>\n",
       "      <td>Abu Dhabi</td>\n",
       "      <td>Zayed Cricket Stadium, Abu Dhabi</td>\n",
       "    </tr>\n",
       "    <tr>\n",
       "      <th>2</th>\n",
       "      <td>Ahmedabad</td>\n",
       "      <td>Narendra Modi Stadium, Ahmedabad</td>\n",
       "    </tr>\n",
       "    <tr>\n",
       "      <th>3</th>\n",
       "      <td>Ahmedabad</td>\n",
       "      <td>Sardar Patel Stadium, Motera</td>\n",
       "    </tr>\n",
       "    <tr>\n",
       "      <th>4</th>\n",
       "      <td>Bangalore</td>\n",
       "      <td>M Chinnaswamy Stadium</td>\n",
       "    </tr>\n",
       "    <tr>\n",
       "      <th>5</th>\n",
       "      <td>Bengaluru</td>\n",
       "      <td>M.Chinnaswamy Stadium</td>\n",
       "    </tr>\n",
       "    <tr>\n",
       "      <th>6</th>\n",
       "      <td>Bloemfontein</td>\n",
       "      <td>OUTsurance Oval</td>\n",
       "    </tr>\n",
       "    <tr>\n",
       "      <th>7</th>\n",
       "      <td>Cape Town</td>\n",
       "      <td>Newlands</td>\n",
       "    </tr>\n",
       "    <tr>\n",
       "      <th>8</th>\n",
       "      <td>Centurion</td>\n",
       "      <td>SuperSport Park</td>\n",
       "    </tr>\n",
       "    <tr>\n",
       "      <th>9</th>\n",
       "      <td>Chandigarh</td>\n",
       "      <td>Punjab Cricket Association IS Bindra Stadium</td>\n",
       "    </tr>\n",
       "    <tr>\n",
       "      <th>10</th>\n",
       "      <td>Chandigarh</td>\n",
       "      <td>Punjab Cricket Association IS Bindra Stadium, ...</td>\n",
       "    </tr>\n",
       "    <tr>\n",
       "      <th>11</th>\n",
       "      <td>Chandigarh</td>\n",
       "      <td>Punjab Cricket Association Stadium, Mohali</td>\n",
       "    </tr>\n",
       "    <tr>\n",
       "      <th>12</th>\n",
       "      <td>Chennai</td>\n",
       "      <td>MA Chidambaram Stadium</td>\n",
       "    </tr>\n",
       "    <tr>\n",
       "      <th>13</th>\n",
       "      <td>Chennai</td>\n",
       "      <td>MA Chidambaram Stadium, Chepauk</td>\n",
       "    </tr>\n",
       "    <tr>\n",
       "      <th>14</th>\n",
       "      <td>Chennai</td>\n",
       "      <td>MA Chidambaram Stadium, Chepauk, Chennai</td>\n",
       "    </tr>\n",
       "    <tr>\n",
       "      <th>15</th>\n",
       "      <td>Cuttack</td>\n",
       "      <td>Barabati Stadium</td>\n",
       "    </tr>\n",
       "    <tr>\n",
       "      <th>16</th>\n",
       "      <td>Delhi</td>\n",
       "      <td>Arun Jaitley Stadium</td>\n",
       "    </tr>\n",
       "    <tr>\n",
       "      <th>17</th>\n",
       "      <td>Delhi</td>\n",
       "      <td>Arun Jaitley Stadium, Delhi</td>\n",
       "    </tr>\n",
       "    <tr>\n",
       "      <th>18</th>\n",
       "      <td>Delhi</td>\n",
       "      <td>Feroz Shah Kotla</td>\n",
       "    </tr>\n",
       "    <tr>\n",
       "      <th>19</th>\n",
       "      <td>Dharamsala</td>\n",
       "      <td>Himachal Pradesh Cricket Association Stadium</td>\n",
       "    </tr>\n",
       "    <tr>\n",
       "      <th>20</th>\n",
       "      <td>Dubai</td>\n",
       "      <td>Dubai International Cricket Stadium</td>\n",
       "    </tr>\n",
       "    <tr>\n",
       "      <th>21</th>\n",
       "      <td>Durban</td>\n",
       "      <td>Kingsmead</td>\n",
       "    </tr>\n",
       "    <tr>\n",
       "      <th>22</th>\n",
       "      <td>East London</td>\n",
       "      <td>Buffalo Park</td>\n",
       "    </tr>\n",
       "    <tr>\n",
       "      <th>23</th>\n",
       "      <td>Hyderabad</td>\n",
       "      <td>Rajiv Gandhi International Stadium</td>\n",
       "    </tr>\n",
       "    <tr>\n",
       "      <th>24</th>\n",
       "      <td>Hyderabad</td>\n",
       "      <td>Rajiv Gandhi International Stadium, Uppal</td>\n",
       "    </tr>\n",
       "    <tr>\n",
       "      <th>25</th>\n",
       "      <td>Indore</td>\n",
       "      <td>Holkar Cricket Stadium</td>\n",
       "    </tr>\n",
       "    <tr>\n",
       "      <th>26</th>\n",
       "      <td>Jaipur</td>\n",
       "      <td>Sawai Mansingh Stadium</td>\n",
       "    </tr>\n",
       "    <tr>\n",
       "      <th>27</th>\n",
       "      <td>Johannesburg</td>\n",
       "      <td>New Wanderers Stadium</td>\n",
       "    </tr>\n",
       "    <tr>\n",
       "      <th>28</th>\n",
       "      <td>Kimberley</td>\n",
       "      <td>De Beers Diamond Oval</td>\n",
       "    </tr>\n",
       "    <tr>\n",
       "      <th>29</th>\n",
       "      <td>Kolkata</td>\n",
       "      <td>Eden Gardens</td>\n",
       "    </tr>\n",
       "    <tr>\n",
       "      <th>30</th>\n",
       "      <td>Kolkata</td>\n",
       "      <td>Eden Gardens, Kolkata</td>\n",
       "    </tr>\n",
       "    <tr>\n",
       "      <th>31</th>\n",
       "      <td>Mumbai</td>\n",
       "      <td>Brabourne Stadium</td>\n",
       "    </tr>\n",
       "    <tr>\n",
       "      <th>32</th>\n",
       "      <td>Mumbai</td>\n",
       "      <td>Brabourne Stadium, Mumbai</td>\n",
       "    </tr>\n",
       "    <tr>\n",
       "      <th>33</th>\n",
       "      <td>Mumbai</td>\n",
       "      <td>Dr DY Patil Sports Academy</td>\n",
       "    </tr>\n",
       "    <tr>\n",
       "      <th>34</th>\n",
       "      <td>Mumbai</td>\n",
       "      <td>Dr DY Patil Sports Academy, Mumbai</td>\n",
       "    </tr>\n",
       "    <tr>\n",
       "      <th>35</th>\n",
       "      <td>Mumbai</td>\n",
       "      <td>Wankhede Stadium</td>\n",
       "    </tr>\n",
       "    <tr>\n",
       "      <th>36</th>\n",
       "      <td>Mumbai</td>\n",
       "      <td>Wankhede Stadium, Mumbai</td>\n",
       "    </tr>\n",
       "    <tr>\n",
       "      <th>37</th>\n",
       "      <td>Navi Mumbai</td>\n",
       "      <td>Dr DY Patil Sports Academy, Mumbai</td>\n",
       "    </tr>\n",
       "    <tr>\n",
       "      <th>38</th>\n",
       "      <td>Port Elizabeth</td>\n",
       "      <td>St George's Park</td>\n",
       "    </tr>\n",
       "    <tr>\n",
       "      <th>39</th>\n",
       "      <td>Pune</td>\n",
       "      <td>Maharashtra Cricket Association Stadium</td>\n",
       "    </tr>\n",
       "    <tr>\n",
       "      <th>40</th>\n",
       "      <td>Pune</td>\n",
       "      <td>Maharashtra Cricket Association Stadium, Pune</td>\n",
       "    </tr>\n",
       "    <tr>\n",
       "      <th>41</th>\n",
       "      <td>Pune</td>\n",
       "      <td>Subrata Roy Sahara Stadium</td>\n",
       "    </tr>\n",
       "    <tr>\n",
       "      <th>42</th>\n",
       "      <td>Raipur</td>\n",
       "      <td>Shaheed Veer Narayan Singh International Stadium</td>\n",
       "    </tr>\n",
       "    <tr>\n",
       "      <th>43</th>\n",
       "      <td>Ranchi</td>\n",
       "      <td>JSCA International Stadium Complex</td>\n",
       "    </tr>\n",
       "    <tr>\n",
       "      <th>44</th>\n",
       "      <td>Sharjah</td>\n",
       "      <td>Sharjah Cricket Stadium</td>\n",
       "    </tr>\n",
       "    <tr>\n",
       "      <th>45</th>\n",
       "      <td>Visakhapatnam</td>\n",
       "      <td>Dr. Y.S. Rajasekhara Reddy ACA-VDCA Cricket St...</td>\n",
       "    </tr>\n",
       "  </tbody>\n",
       "</table>\n",
       "</div>"
      ],
      "text/plain": [
       "              City                                              Venue\n",
       "0        Abu Dhabi                               Sheikh Zayed Stadium\n",
       "1        Abu Dhabi                   Zayed Cricket Stadium, Abu Dhabi\n",
       "2        Ahmedabad                   Narendra Modi Stadium, Ahmedabad\n",
       "3        Ahmedabad                       Sardar Patel Stadium, Motera\n",
       "4        Bangalore                              M Chinnaswamy Stadium\n",
       "5        Bengaluru                              M.Chinnaswamy Stadium\n",
       "6     Bloemfontein                                    OUTsurance Oval\n",
       "7        Cape Town                                           Newlands\n",
       "8        Centurion                                    SuperSport Park\n",
       "9       Chandigarh       Punjab Cricket Association IS Bindra Stadium\n",
       "10      Chandigarh  Punjab Cricket Association IS Bindra Stadium, ...\n",
       "11      Chandigarh         Punjab Cricket Association Stadium, Mohali\n",
       "12         Chennai                             MA Chidambaram Stadium\n",
       "13         Chennai                    MA Chidambaram Stadium, Chepauk\n",
       "14         Chennai           MA Chidambaram Stadium, Chepauk, Chennai\n",
       "15         Cuttack                                   Barabati Stadium\n",
       "16           Delhi                               Arun Jaitley Stadium\n",
       "17           Delhi                        Arun Jaitley Stadium, Delhi\n",
       "18           Delhi                                   Feroz Shah Kotla\n",
       "19      Dharamsala       Himachal Pradesh Cricket Association Stadium\n",
       "20           Dubai                Dubai International Cricket Stadium\n",
       "21          Durban                                          Kingsmead\n",
       "22     East London                                       Buffalo Park\n",
       "23       Hyderabad                 Rajiv Gandhi International Stadium\n",
       "24       Hyderabad          Rajiv Gandhi International Stadium, Uppal\n",
       "25          Indore                             Holkar Cricket Stadium\n",
       "26          Jaipur                             Sawai Mansingh Stadium\n",
       "27    Johannesburg                              New Wanderers Stadium\n",
       "28       Kimberley                              De Beers Diamond Oval\n",
       "29         Kolkata                                       Eden Gardens\n",
       "30         Kolkata                              Eden Gardens, Kolkata\n",
       "31          Mumbai                                  Brabourne Stadium\n",
       "32          Mumbai                          Brabourne Stadium, Mumbai\n",
       "33          Mumbai                         Dr DY Patil Sports Academy\n",
       "34          Mumbai                 Dr DY Patil Sports Academy, Mumbai\n",
       "35          Mumbai                                   Wankhede Stadium\n",
       "36          Mumbai                           Wankhede Stadium, Mumbai\n",
       "37     Navi Mumbai                 Dr DY Patil Sports Academy, Mumbai\n",
       "38  Port Elizabeth                                   St George's Park\n",
       "39            Pune            Maharashtra Cricket Association Stadium\n",
       "40            Pune      Maharashtra Cricket Association Stadium, Pune\n",
       "41            Pune                         Subrata Roy Sahara Stadium\n",
       "42          Raipur   Shaheed Veer Narayan Singh International Stadium\n",
       "43          Ranchi                 JSCA International Stadium Complex\n",
       "44         Sharjah                            Sharjah Cricket Stadium\n",
       "45   Visakhapatnam  Dr. Y.S. Rajasekhara Reddy ACA-VDCA Cricket St..."
      ]
     },
     "execution_count": 34,
     "metadata": {},
     "output_type": "execute_result"
    }
   ],
   "source": [
    "city_venue "
   ]
  },
  {
   "cell_type": "code",
   "execution_count": 35,
   "id": "8328dd66",
   "metadata": {},
   "outputs": [],
   "source": [
    "df['City'].replace(to_replace = 'Bengaluru', value = 'Bangalore', inplace = True)"
   ]
  },
  {
   "cell_type": "code",
   "execution_count": 36,
   "id": "6870551c",
   "metadata": {},
   "outputs": [],
   "source": [
    "df.loc[df['Venue'].isin(['Dr DY Patil Sports Academy', 'Dr DY Patil Sports Academy, Mumbai']), ['City']] = 'Navi Mumbai'"
   ]
  },
  {
   "cell_type": "code",
   "execution_count": 37,
   "id": "6a2fc7c6",
   "metadata": {},
   "outputs": [],
   "source": [
    "df.loc[df['Venue'].isin(['Brabourne Stadium', 'Brabourne Stadium, Mumbai']), ['City']] = 'Mumbai(Brabourne)'"
   ]
  },
  {
   "cell_type": "code",
   "execution_count": 46,
   "id": "4e846887",
   "metadata": {},
   "outputs": [],
   "source": [
    "a = pd.DataFrame(df.groupby(['City','Venue']).size().reset_index().drop(columns = [0]))"
   ]
  },
  {
   "cell_type": "code",
   "execution_count": 47,
   "id": "8e66aff3",
   "metadata": {},
   "outputs": [],
   "source": [
    "a = a[['Venue','City']]"
   ]
  },
  {
   "cell_type": "code",
   "execution_count": 59,
   "id": "194bc9a1",
   "metadata": {},
   "outputs": [],
   "source": [
    "a_dict = dict(a.values)"
   ]
  },
  {
   "cell_type": "code",
   "execution_count": 60,
   "id": "e24329c4",
   "metadata": {},
   "outputs": [
    {
     "data": {
      "text/plain": [
       "{'Sheikh Zayed Stadium': 'Abu Dhabi',\n",
       " 'Zayed Cricket Stadium, Abu Dhabi': 'Abu Dhabi',\n",
       " 'Narendra Modi Stadium, Ahmedabad': 'Ahmedabad',\n",
       " 'Sardar Patel Stadium, Motera': 'Ahmedabad',\n",
       " 'M Chinnaswamy Stadium': 'Bangalore',\n",
       " 'M.Chinnaswamy Stadium': 'Bangalore',\n",
       " 'OUTsurance Oval': 'Bloemfontein',\n",
       " 'Newlands': 'Cape Town',\n",
       " 'SuperSport Park': 'Centurion',\n",
       " 'Punjab Cricket Association IS Bindra Stadium': 'Chandigarh',\n",
       " 'Punjab Cricket Association IS Bindra Stadium, Mohali': 'Chandigarh',\n",
       " 'Punjab Cricket Association Stadium, Mohali': 'Chandigarh',\n",
       " 'MA Chidambaram Stadium': 'Chennai',\n",
       " 'MA Chidambaram Stadium, Chepauk': 'Chennai',\n",
       " 'MA Chidambaram Stadium, Chepauk, Chennai': 'Chennai',\n",
       " 'Barabati Stadium': 'Cuttack',\n",
       " 'Arun Jaitley Stadium': 'Delhi',\n",
       " 'Arun Jaitley Stadium, Delhi': 'Delhi',\n",
       " 'Feroz Shah Kotla': 'Delhi',\n",
       " 'Himachal Pradesh Cricket Association Stadium': 'Dharamsala',\n",
       " 'Dubai International Cricket Stadium': 'Dubai',\n",
       " 'Kingsmead': 'Durban',\n",
       " 'Buffalo Park': 'East London',\n",
       " 'Rajiv Gandhi International Stadium': 'Hyderabad',\n",
       " 'Rajiv Gandhi International Stadium, Uppal': 'Hyderabad',\n",
       " 'Holkar Cricket Stadium': 'Indore',\n",
       " 'Sawai Mansingh Stadium': 'Jaipur',\n",
       " 'New Wanderers Stadium': 'Johannesburg',\n",
       " 'De Beers Diamond Oval': 'Kimberley',\n",
       " 'Eden Gardens': 'Kolkata',\n",
       " 'Eden Gardens, Kolkata': 'Kolkata',\n",
       " 'Wankhede Stadium': 'Mumbai',\n",
       " 'Wankhede Stadium, Mumbai': 'Mumbai',\n",
       " 'Brabourne Stadium': 'Mumbai(Brabourne)',\n",
       " 'Brabourne Stadium, Mumbai': 'Mumbai(Brabourne)',\n",
       " 'Dr DY Patil Sports Academy': 'Navi Mumbai',\n",
       " 'Dr DY Patil Sports Academy, Mumbai': 'Navi Mumbai',\n",
       " \"St George's Park\": 'Port Elizabeth',\n",
       " 'Maharashtra Cricket Association Stadium': 'Pune',\n",
       " 'Maharashtra Cricket Association Stadium, Pune': 'Pune',\n",
       " 'Subrata Roy Sahara Stadium': 'Pune',\n",
       " 'Shaheed Veer Narayan Singh International Stadium': 'Raipur',\n",
       " 'JSCA International Stadium Complex': 'Ranchi',\n",
       " 'Sharjah Cricket Stadium': 'Sharjah',\n",
       " 'Dr. Y.S. Rajasekhara Reddy ACA-VDCA Cricket Stadium': 'Visakhapatnam'}"
      ]
     },
     "execution_count": 60,
     "metadata": {},
     "output_type": "execute_result"
    }
   ],
   "source": [
    "a_dict"
   ]
  },
  {
   "cell_type": "code",
   "execution_count": 61,
   "id": "3b4f3f5d",
   "metadata": {},
   "outputs": [],
   "source": [
    "city = np.where(df['City'].isnull(), df['Venue'].map(a_dict), df['City'])"
   ]
  },
  {
   "cell_type": "code",
   "execution_count": 73,
   "id": "df1ea649",
   "metadata": {},
   "outputs": [],
   "source": [
    "df['City'] = city"
   ]
  },
  {
   "cell_type": "code",
   "execution_count": 74,
   "id": "f612f719",
   "metadata": {},
   "outputs": [
    {
     "data": {
      "text/plain": [
       "0"
      ]
     },
     "execution_count": 74,
     "metadata": {},
     "output_type": "execute_result"
    }
   ],
   "source": [
    "df['City'].isnull().sum()"
   ]
  },
  {
   "cell_type": "code",
   "execution_count": 76,
   "id": "9b287424",
   "metadata": {},
   "outputs": [
    {
     "data": {
      "text/plain": [
       "array(['Ahmedabad', 'Kolkata', 'Mumbai', 'Mumbai(Brabourne)',\n",
       "       'Navi Mumbai', 'Pune', 'Dubai', 'Sharjah', 'Abu Dhabi', 'Delhi',\n",
       "       'Chennai', 'Hyderabad', 'Visakhapatnam', 'Chandigarh', 'Bangalore',\n",
       "       'Jaipur', 'Indore', 'Raipur', 'Ranchi', 'Cuttack', 'Dharamsala',\n",
       "       'Johannesburg', 'Centurion', 'Durban', 'Bloemfontein',\n",
       "       'Port Elizabeth', 'Kimberley', 'East London', 'Cape Town'],\n",
       "      dtype=object)"
      ]
     },
     "execution_count": 76,
     "metadata": {},
     "output_type": "execute_result"
    }
   ],
   "source": [
    "df['City'].unique()"
   ]
  },
  {
   "cell_type": "code",
   "execution_count": 77,
   "id": "5675aeeb",
   "metadata": {},
   "outputs": [],
   "source": [
    "df.drop(['Date','Season','Venue'], axis = 1, inplace = True)"
   ]
  },
  {
   "cell_type": "code",
   "execution_count": 78,
   "id": "7b2bbe9f",
   "metadata": {},
   "outputs": [
    {
     "data": {
      "text/html": [
       "<div>\n",
       "<style scoped>\n",
       "    .dataframe tbody tr th:only-of-type {\n",
       "        vertical-align: middle;\n",
       "    }\n",
       "\n",
       "    .dataframe tbody tr th {\n",
       "        vertical-align: top;\n",
       "    }\n",
       "\n",
       "    .dataframe thead th {\n",
       "        text-align: right;\n",
       "    }\n",
       "</style>\n",
       "<table border=\"1\" class=\"dataframe\">\n",
       "  <thead>\n",
       "    <tr style=\"text-align: right;\">\n",
       "      <th></th>\n",
       "      <th>ID</th>\n",
       "      <th>innings</th>\n",
       "      <th>overs</th>\n",
       "      <th>ballnumber</th>\n",
       "      <th>total_run</th>\n",
       "      <th>isWicketDelivery</th>\n",
       "      <th>BattingTeam</th>\n",
       "      <th>City</th>\n",
       "      <th>BowlingTeam</th>\n",
       "    </tr>\n",
       "  </thead>\n",
       "  <tbody>\n",
       "    <tr>\n",
       "      <th>0</th>\n",
       "      <td>1312200</td>\n",
       "      <td>1</td>\n",
       "      <td>0</td>\n",
       "      <td>1</td>\n",
       "      <td>0</td>\n",
       "      <td>0</td>\n",
       "      <td>Rajasthan Royals</td>\n",
       "      <td>Ahmedabad</td>\n",
       "      <td>Gujarat Titans</td>\n",
       "    </tr>\n",
       "    <tr>\n",
       "      <th>1</th>\n",
       "      <td>1312200</td>\n",
       "      <td>1</td>\n",
       "      <td>0</td>\n",
       "      <td>2</td>\n",
       "      <td>1</td>\n",
       "      <td>0</td>\n",
       "      <td>Rajasthan Royals</td>\n",
       "      <td>Ahmedabad</td>\n",
       "      <td>Gujarat Titans</td>\n",
       "    </tr>\n",
       "    <tr>\n",
       "      <th>2</th>\n",
       "      <td>1312200</td>\n",
       "      <td>1</td>\n",
       "      <td>0</td>\n",
       "      <td>3</td>\n",
       "      <td>1</td>\n",
       "      <td>0</td>\n",
       "      <td>Rajasthan Royals</td>\n",
       "      <td>Ahmedabad</td>\n",
       "      <td>Gujarat Titans</td>\n",
       "    </tr>\n",
       "    <tr>\n",
       "      <th>3</th>\n",
       "      <td>1312200</td>\n",
       "      <td>1</td>\n",
       "      <td>0</td>\n",
       "      <td>4</td>\n",
       "      <td>0</td>\n",
       "      <td>0</td>\n",
       "      <td>Rajasthan Royals</td>\n",
       "      <td>Ahmedabad</td>\n",
       "      <td>Gujarat Titans</td>\n",
       "    </tr>\n",
       "    <tr>\n",
       "      <th>4</th>\n",
       "      <td>1312200</td>\n",
       "      <td>1</td>\n",
       "      <td>0</td>\n",
       "      <td>5</td>\n",
       "      <td>0</td>\n",
       "      <td>0</td>\n",
       "      <td>Rajasthan Royals</td>\n",
       "      <td>Ahmedabad</td>\n",
       "      <td>Gujarat Titans</td>\n",
       "    </tr>\n",
       "  </tbody>\n",
       "</table>\n",
       "</div>"
      ],
      "text/plain": [
       "        ID  innings  overs  ballnumber  total_run  isWicketDelivery  \\\n",
       "0  1312200        1      0           1          0                 0   \n",
       "1  1312200        1      0           2          1                 0   \n",
       "2  1312200        1      0           3          1                 0   \n",
       "3  1312200        1      0           4          0                 0   \n",
       "4  1312200        1      0           5          0                 0   \n",
       "\n",
       "        BattingTeam       City     BowlingTeam  \n",
       "0  Rajasthan Royals  Ahmedabad  Gujarat Titans  \n",
       "1  Rajasthan Royals  Ahmedabad  Gujarat Titans  \n",
       "2  Rajasthan Royals  Ahmedabad  Gujarat Titans  \n",
       "3  Rajasthan Royals  Ahmedabad  Gujarat Titans  \n",
       "4  Rajasthan Royals  Ahmedabad  Gujarat Titans  "
      ]
     },
     "execution_count": 78,
     "metadata": {},
     "output_type": "execute_result"
    }
   ],
   "source": [
    "df.head()"
   ]
  },
  {
   "cell_type": "code",
   "execution_count": 79,
   "id": "ac1c8078",
   "metadata": {},
   "outputs": [],
   "source": [
    "df['current_score'] = df.groupby(['ID']).cumsum()['total_run']"
   ]
  },
  {
   "cell_type": "code",
   "execution_count": 80,
   "id": "f1ca3e6c",
   "metadata": {},
   "outputs": [],
   "source": [
    "df['wickets'] = df.groupby(['ID']).cumsum()['isWicketDelivery']"
   ]
  },
  {
   "cell_type": "code",
   "execution_count": 81,
   "id": "621678c6",
   "metadata": {},
   "outputs": [],
   "source": [
    "df['balls_bowled'] = df['overs']*6 + df['ballnumber']"
   ]
  },
  {
   "cell_type": "code",
   "execution_count": 82,
   "id": "be95f7fc",
   "metadata": {},
   "outputs": [],
   "source": [
    "df['balls_left'] = 120 - df['balls_bowled']"
   ]
  },
  {
   "cell_type": "code",
   "execution_count": 83,
   "id": "c3feefc0",
   "metadata": {},
   "outputs": [],
   "source": [
    "df['wickets_left'] = 10 - df['wickets']"
   ]
  },
  {
   "cell_type": "code",
   "execution_count": 84,
   "id": "2c38479f",
   "metadata": {},
   "outputs": [],
   "source": [
    "cs = df.groupby(['ID'])['current_score'].max().reset_index()"
   ]
  },
  {
   "cell_type": "code",
   "execution_count": 85,
   "id": "afb140eb",
   "metadata": {},
   "outputs": [],
   "source": [
    "df = df.merge(cs, on = ['ID']) "
   ]
  },
  {
   "cell_type": "code",
   "execution_count": 86,
   "id": "d362c267",
   "metadata": {},
   "outputs": [],
   "source": [
    "df.rename(columns = {'current_score_y':'final_score', 'current_score_x':'current_score'}, inplace = True)"
   ]
  },
  {
   "cell_type": "code",
   "execution_count": 87,
   "id": "d24acd0c",
   "metadata": {},
   "outputs": [
    {
     "data": {
      "text/html": [
       "<div>\n",
       "<style scoped>\n",
       "    .dataframe tbody tr th:only-of-type {\n",
       "        vertical-align: middle;\n",
       "    }\n",
       "\n",
       "    .dataframe tbody tr th {\n",
       "        vertical-align: top;\n",
       "    }\n",
       "\n",
       "    .dataframe thead th {\n",
       "        text-align: right;\n",
       "    }\n",
       "</style>\n",
       "<table border=\"1\" class=\"dataframe\">\n",
       "  <thead>\n",
       "    <tr style=\"text-align: right;\">\n",
       "      <th></th>\n",
       "      <th>ID</th>\n",
       "      <th>innings</th>\n",
       "      <th>overs</th>\n",
       "      <th>ballnumber</th>\n",
       "      <th>total_run</th>\n",
       "      <th>isWicketDelivery</th>\n",
       "      <th>BattingTeam</th>\n",
       "      <th>City</th>\n",
       "      <th>BowlingTeam</th>\n",
       "      <th>current_score</th>\n",
       "      <th>wickets</th>\n",
       "      <th>balls_bowled</th>\n",
       "      <th>balls_left</th>\n",
       "      <th>wickets_left</th>\n",
       "      <th>final_score</th>\n",
       "    </tr>\n",
       "  </thead>\n",
       "  <tbody>\n",
       "    <tr>\n",
       "      <th>0</th>\n",
       "      <td>1312200</td>\n",
       "      <td>1</td>\n",
       "      <td>0</td>\n",
       "      <td>1</td>\n",
       "      <td>0</td>\n",
       "      <td>0</td>\n",
       "      <td>Rajasthan Royals</td>\n",
       "      <td>Ahmedabad</td>\n",
       "      <td>Gujarat Titans</td>\n",
       "      <td>0</td>\n",
       "      <td>0</td>\n",
       "      <td>1</td>\n",
       "      <td>119</td>\n",
       "      <td>10</td>\n",
       "      <td>130</td>\n",
       "    </tr>\n",
       "    <tr>\n",
       "      <th>1</th>\n",
       "      <td>1312200</td>\n",
       "      <td>1</td>\n",
       "      <td>0</td>\n",
       "      <td>2</td>\n",
       "      <td>1</td>\n",
       "      <td>0</td>\n",
       "      <td>Rajasthan Royals</td>\n",
       "      <td>Ahmedabad</td>\n",
       "      <td>Gujarat Titans</td>\n",
       "      <td>1</td>\n",
       "      <td>0</td>\n",
       "      <td>2</td>\n",
       "      <td>118</td>\n",
       "      <td>10</td>\n",
       "      <td>130</td>\n",
       "    </tr>\n",
       "    <tr>\n",
       "      <th>2</th>\n",
       "      <td>1312200</td>\n",
       "      <td>1</td>\n",
       "      <td>0</td>\n",
       "      <td>3</td>\n",
       "      <td>1</td>\n",
       "      <td>0</td>\n",
       "      <td>Rajasthan Royals</td>\n",
       "      <td>Ahmedabad</td>\n",
       "      <td>Gujarat Titans</td>\n",
       "      <td>2</td>\n",
       "      <td>0</td>\n",
       "      <td>3</td>\n",
       "      <td>117</td>\n",
       "      <td>10</td>\n",
       "      <td>130</td>\n",
       "    </tr>\n",
       "    <tr>\n",
       "      <th>3</th>\n",
       "      <td>1312200</td>\n",
       "      <td>1</td>\n",
       "      <td>0</td>\n",
       "      <td>4</td>\n",
       "      <td>0</td>\n",
       "      <td>0</td>\n",
       "      <td>Rajasthan Royals</td>\n",
       "      <td>Ahmedabad</td>\n",
       "      <td>Gujarat Titans</td>\n",
       "      <td>2</td>\n",
       "      <td>0</td>\n",
       "      <td>4</td>\n",
       "      <td>116</td>\n",
       "      <td>10</td>\n",
       "      <td>130</td>\n",
       "    </tr>\n",
       "    <tr>\n",
       "      <th>4</th>\n",
       "      <td>1312200</td>\n",
       "      <td>1</td>\n",
       "      <td>0</td>\n",
       "      <td>5</td>\n",
       "      <td>0</td>\n",
       "      <td>0</td>\n",
       "      <td>Rajasthan Royals</td>\n",
       "      <td>Ahmedabad</td>\n",
       "      <td>Gujarat Titans</td>\n",
       "      <td>2</td>\n",
       "      <td>0</td>\n",
       "      <td>5</td>\n",
       "      <td>115</td>\n",
       "      <td>10</td>\n",
       "      <td>130</td>\n",
       "    </tr>\n",
       "  </tbody>\n",
       "</table>\n",
       "</div>"
      ],
      "text/plain": [
       "        ID  innings  overs  ballnumber  total_run  isWicketDelivery  \\\n",
       "0  1312200        1      0           1          0                 0   \n",
       "1  1312200        1      0           2          1                 0   \n",
       "2  1312200        1      0           3          1                 0   \n",
       "3  1312200        1      0           4          0                 0   \n",
       "4  1312200        1      0           5          0                 0   \n",
       "\n",
       "        BattingTeam       City     BowlingTeam  current_score  wickets  \\\n",
       "0  Rajasthan Royals  Ahmedabad  Gujarat Titans              0        0   \n",
       "1  Rajasthan Royals  Ahmedabad  Gujarat Titans              1        0   \n",
       "2  Rajasthan Royals  Ahmedabad  Gujarat Titans              2        0   \n",
       "3  Rajasthan Royals  Ahmedabad  Gujarat Titans              2        0   \n",
       "4  Rajasthan Royals  Ahmedabad  Gujarat Titans              2        0   \n",
       "\n",
       "   balls_bowled  balls_left  wickets_left  final_score  \n",
       "0             1         119            10          130  \n",
       "1             2         118            10          130  \n",
       "2             3         117            10          130  \n",
       "3             4         116            10          130  \n",
       "4             5         115            10          130  "
      ]
     },
     "execution_count": 87,
     "metadata": {},
     "output_type": "execute_result"
    }
   ],
   "source": [
    "df.head()"
   ]
  },
  {
   "cell_type": "code",
   "execution_count": 88,
   "id": "f995557d",
   "metadata": {},
   "outputs": [],
   "source": [
    "df['run_rate'] = df['current_score'] * 6 / df['balls_bowled']"
   ]
  },
  {
   "cell_type": "code",
   "execution_count": 89,
   "id": "bf68e23f",
   "metadata": {},
   "outputs": [],
   "source": [
    "groups = df.groupby('ID')\n",
    "\n",
    "match_ids = df['ID'].unique()\n",
    "last_five = []\n",
    "for id in match_ids:\n",
    "    last_five.extend(groups.get_group(id).rolling(window=30).sum()['total_run'].values.tolist())"
   ]
  },
  {
   "cell_type": "code",
   "execution_count": 90,
   "id": "c2319538",
   "metadata": {},
   "outputs": [],
   "source": [
    "df['last5_runs'] = last_five"
   ]
  },
  {
   "cell_type": "code",
   "execution_count": 91,
   "id": "e8afb2fb",
   "metadata": {},
   "outputs": [],
   "source": [
    "df = df[~(df['overs'].isin([0,1,2,3,4]))]"
   ]
  },
  {
   "cell_type": "code",
   "execution_count": 92,
   "id": "195f4ae3",
   "metadata": {},
   "outputs": [
    {
     "data": {
      "text/plain": [
       "Index(['ID', 'innings', 'overs', 'ballnumber', 'total_run', 'isWicketDelivery',\n",
       "       'BattingTeam', 'City', 'BowlingTeam', 'current_score', 'wickets',\n",
       "       'balls_bowled', 'balls_left', 'wickets_left', 'final_score', 'run_rate',\n",
       "       'last5_runs'],\n",
       "      dtype='object')"
      ]
     },
     "execution_count": 92,
     "metadata": {},
     "output_type": "execute_result"
    }
   ],
   "source": [
    "df.columns"
   ]
  },
  {
   "cell_type": "code",
   "execution_count": 93,
   "id": "e9e4e7d3",
   "metadata": {},
   "outputs": [
    {
     "name": "stderr",
     "output_type": "stream",
     "text": [
      "C:\\Users\\Aman\\anaconda3\\lib\\site-packages\\pandas\\core\\frame.py:4906: SettingWithCopyWarning: \n",
      "A value is trying to be set on a copy of a slice from a DataFrame\n",
      "\n",
      "See the caveats in the documentation: https://pandas.pydata.org/pandas-docs/stable/user_guide/indexing.html#returning-a-view-versus-a-copy\n",
      "  return super().drop(\n"
     ]
    }
   ],
   "source": [
    "df.drop(columns = ['ID', 'innings', 'overs', 'ballnumber', 'total_run', 'isWicketDelivery','wickets',\n",
    "       'balls_bowled'], axis = 1, inplace = True)"
   ]
  },
  {
   "cell_type": "code",
   "execution_count": 94,
   "id": "5e1c42f2",
   "metadata": {},
   "outputs": [
    {
     "data": {
      "text/html": [
       "<div>\n",
       "<style scoped>\n",
       "    .dataframe tbody tr th:only-of-type {\n",
       "        vertical-align: middle;\n",
       "    }\n",
       "\n",
       "    .dataframe tbody tr th {\n",
       "        vertical-align: top;\n",
       "    }\n",
       "\n",
       "    .dataframe thead th {\n",
       "        text-align: right;\n",
       "    }\n",
       "</style>\n",
       "<table border=\"1\" class=\"dataframe\">\n",
       "  <thead>\n",
       "    <tr style=\"text-align: right;\">\n",
       "      <th></th>\n",
       "      <th>BattingTeam</th>\n",
       "      <th>City</th>\n",
       "      <th>BowlingTeam</th>\n",
       "      <th>current_score</th>\n",
       "      <th>balls_left</th>\n",
       "      <th>wickets_left</th>\n",
       "      <th>final_score</th>\n",
       "      <th>run_rate</th>\n",
       "      <th>last5_runs</th>\n",
       "    </tr>\n",
       "  </thead>\n",
       "  <tbody>\n",
       "    <tr>\n",
       "      <th>30</th>\n",
       "      <td>Rajasthan Royals</td>\n",
       "      <td>Ahmedabad</td>\n",
       "      <td>Gujarat Titans</td>\n",
       "      <td>41</td>\n",
       "      <td>89</td>\n",
       "      <td>9</td>\n",
       "      <td>130</td>\n",
       "      <td>7.935484</td>\n",
       "      <td>41.0</td>\n",
       "    </tr>\n",
       "    <tr>\n",
       "      <th>31</th>\n",
       "      <td>Rajasthan Royals</td>\n",
       "      <td>Ahmedabad</td>\n",
       "      <td>Gujarat Titans</td>\n",
       "      <td>42</td>\n",
       "      <td>88</td>\n",
       "      <td>9</td>\n",
       "      <td>130</td>\n",
       "      <td>7.875000</td>\n",
       "      <td>41.0</td>\n",
       "    </tr>\n",
       "  </tbody>\n",
       "</table>\n",
       "</div>"
      ],
      "text/plain": [
       "         BattingTeam       City     BowlingTeam  current_score  balls_left  \\\n",
       "30  Rajasthan Royals  Ahmedabad  Gujarat Titans             41          89   \n",
       "31  Rajasthan Royals  Ahmedabad  Gujarat Titans             42          88   \n",
       "\n",
       "    wickets_left  final_score  run_rate  last5_runs  \n",
       "30             9          130  7.935484        41.0  \n",
       "31             9          130  7.875000        41.0  "
      ]
     },
     "execution_count": 94,
     "metadata": {},
     "output_type": "execute_result"
    }
   ],
   "source": [
    "df.head(2)"
   ]
  },
  {
   "cell_type": "code",
   "execution_count": 95,
   "id": "44f94834",
   "metadata": {},
   "outputs": [],
   "source": [
    "df = df[['BattingTeam', 'BowlingTeam', 'City', 'current_score', 'balls_left', 'wickets_left', 'run_rate', 'last5_runs', 'final_score']]"
   ]
  },
  {
   "cell_type": "code",
   "execution_count": 96,
   "id": "0781b8ae",
   "metadata": {},
   "outputs": [
    {
     "data": {
      "text/html": [
       "<div>\n",
       "<style scoped>\n",
       "    .dataframe tbody tr th:only-of-type {\n",
       "        vertical-align: middle;\n",
       "    }\n",
       "\n",
       "    .dataframe tbody tr th {\n",
       "        vertical-align: top;\n",
       "    }\n",
       "\n",
       "    .dataframe thead th {\n",
       "        text-align: right;\n",
       "    }\n",
       "</style>\n",
       "<table border=\"1\" class=\"dataframe\">\n",
       "  <thead>\n",
       "    <tr style=\"text-align: right;\">\n",
       "      <th></th>\n",
       "      <th>BattingTeam</th>\n",
       "      <th>BowlingTeam</th>\n",
       "      <th>City</th>\n",
       "      <th>current_score</th>\n",
       "      <th>balls_left</th>\n",
       "      <th>wickets_left</th>\n",
       "      <th>run_rate</th>\n",
       "      <th>last5_runs</th>\n",
       "      <th>final_score</th>\n",
       "    </tr>\n",
       "  </thead>\n",
       "  <tbody>\n",
       "    <tr>\n",
       "      <th>30</th>\n",
       "      <td>Rajasthan Royals</td>\n",
       "      <td>Gujarat Titans</td>\n",
       "      <td>Ahmedabad</td>\n",
       "      <td>41</td>\n",
       "      <td>89</td>\n",
       "      <td>9</td>\n",
       "      <td>7.935484</td>\n",
       "      <td>41.0</td>\n",
       "      <td>130</td>\n",
       "    </tr>\n",
       "    <tr>\n",
       "      <th>31</th>\n",
       "      <td>Rajasthan Royals</td>\n",
       "      <td>Gujarat Titans</td>\n",
       "      <td>Ahmedabad</td>\n",
       "      <td>42</td>\n",
       "      <td>88</td>\n",
       "      <td>9</td>\n",
       "      <td>7.875000</td>\n",
       "      <td>41.0</td>\n",
       "      <td>130</td>\n",
       "    </tr>\n",
       "    <tr>\n",
       "      <th>32</th>\n",
       "      <td>Rajasthan Royals</td>\n",
       "      <td>Gujarat Titans</td>\n",
       "      <td>Ahmedabad</td>\n",
       "      <td>43</td>\n",
       "      <td>87</td>\n",
       "      <td>9</td>\n",
       "      <td>7.818182</td>\n",
       "      <td>41.0</td>\n",
       "      <td>130</td>\n",
       "    </tr>\n",
       "    <tr>\n",
       "      <th>33</th>\n",
       "      <td>Rajasthan Royals</td>\n",
       "      <td>Gujarat Titans</td>\n",
       "      <td>Ahmedabad</td>\n",
       "      <td>43</td>\n",
       "      <td>86</td>\n",
       "      <td>9</td>\n",
       "      <td>7.588235</td>\n",
       "      <td>41.0</td>\n",
       "      <td>130</td>\n",
       "    </tr>\n",
       "    <tr>\n",
       "      <th>34</th>\n",
       "      <td>Rajasthan Royals</td>\n",
       "      <td>Gujarat Titans</td>\n",
       "      <td>Ahmedabad</td>\n",
       "      <td>44</td>\n",
       "      <td>85</td>\n",
       "      <td>9</td>\n",
       "      <td>7.542857</td>\n",
       "      <td>42.0</td>\n",
       "      <td>130</td>\n",
       "    </tr>\n",
       "  </tbody>\n",
       "</table>\n",
       "</div>"
      ],
      "text/plain": [
       "         BattingTeam     BowlingTeam       City  current_score  balls_left  \\\n",
       "30  Rajasthan Royals  Gujarat Titans  Ahmedabad             41          89   \n",
       "31  Rajasthan Royals  Gujarat Titans  Ahmedabad             42          88   \n",
       "32  Rajasthan Royals  Gujarat Titans  Ahmedabad             43          87   \n",
       "33  Rajasthan Royals  Gujarat Titans  Ahmedabad             43          86   \n",
       "34  Rajasthan Royals  Gujarat Titans  Ahmedabad             44          85   \n",
       "\n",
       "    wickets_left  run_rate  last5_runs  final_score  \n",
       "30             9  7.935484        41.0          130  \n",
       "31             9  7.875000        41.0          130  \n",
       "32             9  7.818182        41.0          130  \n",
       "33             9  7.588235        41.0          130  \n",
       "34             9  7.542857        42.0          130  "
      ]
     },
     "execution_count": 96,
     "metadata": {},
     "output_type": "execute_result"
    }
   ],
   "source": [
    "df.head()"
   ]
  },
  {
   "cell_type": "code",
   "execution_count": 97,
   "id": "d7bcdd1a",
   "metadata": {},
   "outputs": [
    {
     "data": {
      "text/plain": [
       "BattingTeam      0\n",
       "BowlingTeam      0\n",
       "City             0\n",
       "current_score    0\n",
       "balls_left       0\n",
       "wickets_left     0\n",
       "run_rate         0\n",
       "last5_runs       0\n",
       "final_score      0\n",
       "dtype: int64"
      ]
     },
     "execution_count": 97,
     "metadata": {},
     "output_type": "execute_result"
    }
   ],
   "source": [
    "df.isnull().sum()"
   ]
  },
  {
   "cell_type": "code",
   "execution_count": 98,
   "id": "1242a0a6",
   "metadata": {},
   "outputs": [],
   "source": [
    "X = df.drop(columns = 'final_score', axis = 1)"
   ]
  },
  {
   "cell_type": "code",
   "execution_count": 99,
   "id": "56145cfd",
   "metadata": {},
   "outputs": [],
   "source": [
    "y = df['final_score']"
   ]
  },
  {
   "cell_type": "code",
   "execution_count": 100,
   "id": "d6e3d6e2",
   "metadata": {},
   "outputs": [],
   "source": [
    "from sklearn.model_selection import train_test_split\n",
    "X_train,X_test,y_train,y_test = train_test_split(X,y,test_size=0.2,random_state=1)"
   ]
  },
  {
   "cell_type": "code",
   "execution_count": 102,
   "id": "f194f7b2",
   "metadata": {},
   "outputs": [
    {
     "name": "stdout",
     "output_type": "stream",
     "text": [
      "Collecting xgboost\n",
      "  Downloading xgboost-1.7.4-py3-none-win_amd64.whl (89.1 MB)\n",
      "Requirement already satisfied: numpy in c:\\users\\aman\\anaconda3\\lib\\site-packages (from xgboost) (1.20.3)\n",
      "Requirement already satisfied: scipy in c:\\users\\aman\\anaconda3\\lib\\site-packages (from xgboost) (1.7.1)\n",
      "Installing collected packages: xgboost\n",
      "Successfully installed xgboost-1.7.4\n"
     ]
    }
   ],
   "source": [
    "!pip install xgboost"
   ]
  },
  {
   "cell_type": "code",
   "execution_count": 103,
   "id": "82f61597",
   "metadata": {},
   "outputs": [],
   "source": [
    "from sklearn.compose import ColumnTransformer\n",
    "from sklearn.preprocessing import OneHotEncoder\n",
    "from sklearn.pipeline import Pipeline\n",
    "from sklearn.preprocessing import StandardScaler\n",
    "from sklearn.ensemble import RandomForestRegressor\n",
    "from xgboost import XGBRegressor\n",
    "from sklearn.metrics import r2_score,mean_absolute_error"
   ]
  },
  {
   "cell_type": "code",
   "execution_count": 104,
   "id": "a93245ac",
   "metadata": {},
   "outputs": [],
   "source": [
    "trf = ColumnTransformer([\n",
    "    ('trf',OneHotEncoder(sparse=False,drop='first'),['BattingTeam','BowlingTeam','City'])\n",
    "]\n",
    ",remainder='passthrough')"
   ]
  },
  {
   "cell_type": "code",
   "execution_count": 105,
   "id": "b773bf6f",
   "metadata": {},
   "outputs": [],
   "source": [
    "pipe = Pipeline(steps=[\n",
    "    ('step1',trf),\n",
    "    ('step2',StandardScaler()),\n",
    "    ('step3',XGBRegressor(n_estimators=1000,learning_rate=0.2,max_depth=12,random_state=1))\n",
    "])"
   ]
  },
  {
   "cell_type": "code",
   "execution_count": 106,
   "id": "b286fb88",
   "metadata": {},
   "outputs": [
    {
     "name": "stdout",
     "output_type": "stream",
     "text": [
      "0.9727687017635841\n",
      "2.474659453994003\n"
     ]
    }
   ],
   "source": [
    "pipe.fit(X_train,y_train)\n",
    "y_pred = pipe.predict(X_test)\n",
    "print(r2_score(y_test,y_pred))\n",
    "print(mean_absolute_error(y_test,y_pred))"
   ]
  },
  {
   "cell_type": "code",
   "execution_count": 107,
   "id": "3584c26b",
   "metadata": {},
   "outputs": [],
   "source": [
    "import pickle"
   ]
  },
  {
   "cell_type": "code",
   "execution_count": 108,
   "id": "e60533c8",
   "metadata": {},
   "outputs": [],
   "source": [
    "pickle.dump(pipe, open('pipe.pkl', 'wb'))"
   ]
  }
 ],
 "metadata": {
  "kernelspec": {
   "display_name": "Python 3 (ipykernel)",
   "language": "python",
   "name": "python3"
  },
  "language_info": {
   "codemirror_mode": {
    "name": "ipython",
    "version": 3
   },
   "file_extension": ".py",
   "mimetype": "text/x-python",
   "name": "python",
   "nbconvert_exporter": "python",
   "pygments_lexer": "ipython3",
   "version": "3.9.7"
  }
 },
 "nbformat": 4,
 "nbformat_minor": 5
}
